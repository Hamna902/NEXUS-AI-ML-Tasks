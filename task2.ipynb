{
 "cells": [
  {
   "cell_type": "markdown",
   "id": "c20fb9ce-20ee-4351-a746-ce2402928ddb",
   "metadata": {},
   "source": [
    "# Task 2: Interactive Dashboard for Retail Sales Insights\n",
    "\n",
    "This dashboard visualizes key findings from the EDA of the Online Retail Dataset, including top-selling products, sales by country, sales trends over time, and customer spending patterns. It uses Dash and Plotly for interactivity, with dropdowns to filter by country."
   ]
  },
  {
   "cell_type": "code",
   "execution_count": 6,
   "id": "e1538500-825f-4770-b742-95d7c96f7c45",
   "metadata": {},
   "outputs": [
    {
     "data": {
      "text/html": [
       "\n",
       "        <iframe\n",
       "            width=\"100%\"\n",
       "            height=\"650\"\n",
       "            src=\"http://127.0.0.1:8050/\"\n",
       "            frameborder=\"0\"\n",
       "            allowfullscreen\n",
       "            \n",
       "        ></iframe>\n",
       "        "
      ],
      "text/plain": [
       "<IPython.lib.display.IFrame at 0x245d142ef10>"
      ]
     },
     "metadata": {},
     "output_type": "display_data"
    }
   ],
   "source": [
    "import pandas as pd\n",
    "import plotly.express as px\n",
    "from dash import Dash, dcc, html, Input, Output\n",
    "\n",
    "# Load dataset\n",
    "df = pd.read_csv(\"Cleaned_OnlineRetail.csv\")\n",
    "\n",
    "# Ensure correct data types\n",
    "df['InvoiceDate'] = pd.to_datetime(df['InvoiceDate'])\n",
    "df['Sales'] = df['Quantity'] * df['UnitPrice']\n",
    "\n",
    "# Initialize app\n",
    "app = Dash(__name__)\n",
    "\n",
    "# App Layout\n",
    "app.layout = html.Div([\n",
    "    html.H1(\"📊 Online Retail Dashboard\", \n",
    "            style={'textAlign': 'center', 'color': '#2c3e50', 'marginBottom': 30}),\n",
    "    \n",
    "    # Country Filter\n",
    "    html.Div([\n",
    "        html.Label(\"🌍 Select Country:\", style={'fontWeight': 'bold'}),\n",
    "        dcc.Dropdown(\n",
    "            id=\"country-filter\",\n",
    "            options=[{\"label\": c, \"value\": c} for c in sorted(df['Country'].unique())],\n",
    "            value=\"United Kingdom\",\n",
    "            multi=False,\n",
    "            style={\"width\": \"50%\"}\n",
    "        )\n",
    "    ], style={\"display\": \"flex\", \"justifyContent\": \"center\", \"marginBottom\": \"30px\"}),\n",
    "\n",
    "    # First row: Two graphs side by side\n",
    "    html.Div([\n",
    "        html.Div([dcc.Graph(id=\"sales-histogram\")], \n",
    "                 style={\"flex\": \"50%\", \"padding\": \"10px\"}),\n",
    "        html.Div([dcc.Graph(id=\"category-bar\")], \n",
    "                 style={\"flex\": \"50%\", \"padding\": \"10px\"}),\n",
    "    ], style={\"display\": \"flex\", \"flexWrap\": \"wrap\"}),\n",
    "\n",
    "    # Second row: Full width time-series\n",
    "    html.Div([\n",
    "        dcc.Graph(id=\"time-series\")\n",
    "    ], style={\"padding\": \"10px\"})\n",
    "])\n",
    "\n",
    "# Callbacks\n",
    "@app.callback(\n",
    "    [Output(\"sales-histogram\", \"figure\"),\n",
    "     Output(\"category-bar\", \"figure\"),\n",
    "     Output(\"time-series\", \"figure\")],\n",
    "    [Input(\"country-filter\", \"value\")]\n",
    ")\n",
    "def update_dashboard(selected_country):\n",
    "    dff = df[df[\"Country\"] == selected_country]\n",
    "\n",
    "    # Histogram: Customer Sales Distribution\n",
    "    fig1 = px.histogram(dff, x=\"Sales\", nbins=50, \n",
    "                        title=\"Distribution of Customer Sales\",\n",
    "                        color_discrete_sequence=[\"#3498db\"])\n",
    "    fig1.update_layout(margin=dict(l=20, r=20, t=50, b=20))\n",
    "\n",
    "    # Bar Chart: Top 10 Products by Sales\n",
    "    top_products = dff.groupby(\"Description\")[\"Sales\"].sum().nlargest(10).reset_index()\n",
    "    fig2 = px.bar(top_products, x=\"Description\", y=\"Sales\", \n",
    "                  title=\"Top 10 Products by Sales\",\n",
    "                  color=\"Sales\", color_continuous_scale=\"Blues\")\n",
    "    fig2.update_layout(xaxis_tickangle=-45, margin=dict(l=20, r=20, t=50, b=120))\n",
    "\n",
    "    # Line Chart: Sales Over Time\n",
    "    monthly_sales = dff.resample(\"ME\", on=\"InvoiceDate\")[\"Sales\"].sum().reset_index()\n",
    "    fig3 = px.line(monthly_sales, x=\"InvoiceDate\", y=\"Sales\", \n",
    "                   title=\"Monthly Sales Trend\",\n",
    "                   markers=True, color_discrete_sequence=[\"#e74c3c\"])\n",
    "    fig3.update_layout(margin=dict(l=20, r=20, t=50, b=20))\n",
    "\n",
    "    return fig1, fig2, fig3\n",
    "\n",
    "\n",
    "if __name__ == \"__main__\":\n",
    "    app.run(debug=True)\n"
   ]
  },
  {
   "cell_type": "markdown",
   "id": "1e02aae6-4db0-48b9-b78f-1d533efd6393",
   "metadata": {},
   "source": [
    "# 📊 Dashboard Overview\n",
    "\n",
    "The dashboard includes:\n",
    "\n",
    "- **Top 10 Products by Sales**: Bar chart, filterable by country via dropdown.  \n",
    "- **Customer Spending Distribution**: Histogram of sales amounts per transaction, filterable by country.  \n",
    "- **Sales Over Time**: Line chart of monthly sales trends, filterable by country.  \n",
    "\n",
    "---\n",
    "\n",
    "## 🚀 How to Use\n",
    "1. Run the Python script or the code cell containing the task2.  \n",
    "2. Open [http://127.0.0.1:8050/](http://127.0.0.1:8050/) in your browser.  \n",
    "3. Use the **dropdown menu** to select a country.  \n",
    "   - The bar chart, histogram, and line chart will update accordingly.  \n",
    "4. To stop the server:  \n",
    "   - Press **CTRL+C** in the terminal (if running script), or  \n",
    "   - **Interrupt the kernel** in Jupyter Notebook.  \n",
    "\n",
    "---\n",
    "\n",
    "## 🎥 Screencast\n",
    "A demo video (`dashboard_demo.mp4`) showcases the dashboard in action, including country filtering and interactive features."
   ]
  },
  {
   "cell_type": "markdown",
   "id": "0b4e1541",
   "metadata": {},
   "source": [
    " [Launch demo notebook in Binder] https://mybinder.org/v2/gh/Hamna902/NEXUS-AI-ML-Tasks/b70aec0c146abdf59956d4b6b00452763d48ec07?urlpath=lab%2Ftree%2Ftask2-checkpoint.ipynb"
   ]
  }
 ],
 "metadata": {
  "kernelspec": {
   "display_name": "Python 3",
   "language": "python",
   "name": "python3"
  },
  "language_info": {
   "codemirror_mode": {
    "name": "ipython",
    "version": 3
   },
   "file_extension": ".py",
   "mimetype": "text/x-python",
   "name": "python",
   "nbconvert_exporter": "python",
   "pygments_lexer": "ipython3",
   "version": "3.9.13"
  }
 },
 "nbformat": 4,
 "nbformat_minor": 5
}
